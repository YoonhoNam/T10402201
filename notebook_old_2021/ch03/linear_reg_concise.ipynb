{
  "nbformat": 4,
  "nbformat_minor": 0,
  "metadata": {
    "colab": {
      "name": "linear_reg_concise.ipynb",
      "provenance": [],
      "collapsed_sections": [],
      "authorship_tag": "ABX9TyPWbZJZuyNrtFpW6LgTzEvn",
      "include_colab_link": true
    },
    "kernelspec": {
      "name": "python3",
      "display_name": "Python 3"
    },
    "language_info": {
      "name": "python"
    }
  },
  "cells": [
    {
      "cell_type": "markdown",
      "metadata": {
        "id": "view-in-github",
        "colab_type": "text"
      },
      "source": [
        "<a href=\"https://colab.research.google.com/github/hufsaim/T10402201/blob/master/ch03/linear_reg_concise.ipynb\" target=\"_parent\"><img src=\"https://colab.research.google.com/assets/colab-badge.svg\" alt=\"Open In Colab\"/></a>"
      ]
    },
    {
      "cell_type": "markdown",
      "metadata": {
        "id": "nKe8TOAIcRzc"
      },
      "source": [
        "http://d2l.ai/chapter_linear-networks/linear-regression-concise.html\n"
      ]
    },
    {
      "cell_type": "code",
      "metadata": {
        "id": "fE9kE_B8YNe3"
      },
      "source": [
        "import numpy as np\n",
        "import torch\n",
        "from torch.utils import data"
      ],
      "execution_count": null,
      "outputs": []
    },
    {
      "cell_type": "code",
      "metadata": {
        "id": "-RgRv-iHZPXI"
      },
      "source": [
        "def synthetic_data(w, b, num_examples):  #@save\n",
        "    \"\"\"Generate y = Xw + b + noise.\"\"\"\n",
        "    X = torch.normal(0, 1, (num_examples, len(w)))\n",
        "    y = torch.matmul(X, w) + b\n",
        "    y += torch.normal(0, 0.01, y.shape)\n",
        "    return X, y.reshape((-1, 1))"
      ],
      "execution_count": null,
      "outputs": []
    },
    {
      "cell_type": "markdown",
      "metadata": {
        "id": "ypYoIcYNbGwp"
      },
      "source": [
        "- model construction (pytorch nn module)"
      ]
    },
    {
      "cell_type": "code",
      "metadata": {
        "colab": {
          "base_uri": "https://localhost:8080/"
        },
        "id": "vh0eOONFYqlx",
        "outputId": "8b64fde0-408e-4841-a63d-77572e743f69"
      },
      "source": [
        "# `nn` is an abbreviation for neural networks\n",
        "from torch import nn\n",
        "net = nn.Sequential(nn.Linear(2, 1))\n",
        "net[0].weight.data.normal_(0, 0.01)\n",
        "net[0].bias.data.fill_(0)\n",
        "\n",
        "print(net[0].weight.data)\n",
        "print(net[0].bias.data)"
      ],
      "execution_count": null,
      "outputs": [
        {
          "output_type": "stream",
          "text": [
            "tensor([[-0.0134,  0.0029]])\n",
            "tensor([0.])\n"
          ],
          "name": "stdout"
        }
      ]
    },
    {
      "cell_type": "markdown",
      "metadata": {
        "id": "Uz6nTTrYbMZM"
      },
      "source": [
        "- hyperparameters"
      ]
    },
    {
      "cell_type": "code",
      "metadata": {
        "id": "S3Me2aZVZZeN"
      },
      "source": [
        "num_epochs = 3\n",
        "batch_size = 10\n",
        "loss = nn.MSELoss()\n",
        "trainer = torch.optim.SGD(net.parameters(), lr=0.03)"
      ],
      "execution_count": null,
      "outputs": []
    },
    {
      "cell_type": "markdown",
      "metadata": {
        "id": "ax7Bvf6ba6GJ"
      },
      "source": [
        "- load examples(synthetic)"
      ]
    },
    {
      "cell_type": "code",
      "metadata": {
        "id": "dTDnutq1ZncE"
      },
      "source": [
        "true_w = torch.tensor([2, -3.4])\n",
        "true_b = 4.2\n",
        "features, labels = synthetic_data(true_w, true_b, 1000)"
      ],
      "execution_count": null,
      "outputs": []
    },
    {
      "cell_type": "markdown",
      "metadata": {
        "id": "xmU45bG1bBOp"
      },
      "source": [
        "- data loader"
      ]
    },
    {
      "cell_type": "code",
      "metadata": {
        "id": "3hu1y6eYZh5t"
      },
      "source": [
        "data_iter = data.DataLoader(data.TensorDataset(*(features, labels)), batch_size, shuffle=True)"
      ],
      "execution_count": null,
      "outputs": []
    },
    {
      "cell_type": "code",
      "metadata": {
        "colab": {
          "base_uri": "https://localhost:8080/"
        },
        "id": "T0rH7G14Z1nI",
        "outputId": "7face30c-655c-4424-d5f0-15dd6f749b7a"
      },
      "source": [
        "next(iter(data_iter))"
      ],
      "execution_count": null,
      "outputs": [
        {
          "output_type": "execute_result",
          "data": {
            "text/plain": [
              "[tensor([[ 0.6057,  0.5036],\n",
              "         [-1.5446,  0.3142],\n",
              "         [-3.0851,  0.4709],\n",
              "         [-0.4336,  0.6667],\n",
              "         [ 0.2393, -2.4849],\n",
              "         [ 0.5690, -1.6878],\n",
              "         [ 1.0622, -0.3432],\n",
              "         [-1.2637, -1.0763],\n",
              "         [-0.0656, -0.5170],\n",
              "         [-0.4463, -0.4912]]), tensor([[ 3.7095],\n",
              "         [ 0.0330],\n",
              "         [-3.5553],\n",
              "         [ 1.0695],\n",
              "         [13.1459],\n",
              "         [11.0708],\n",
              "         [ 7.5048],\n",
              "         [ 5.3339],\n",
              "         [ 5.8243],\n",
              "         [ 4.9803]])]"
            ]
          },
          "metadata": {
            "tags": []
          },
          "execution_count": 7
        }
      ]
    },
    {
      "cell_type": "markdown",
      "metadata": {
        "id": "unw6TJ0nbEvG"
      },
      "source": [
        "- train a model"
      ]
    },
    {
      "cell_type": "code",
      "metadata": {
        "colab": {
          "base_uri": "https://localhost:8080/"
        },
        "id": "SEpbeUHSY1LY",
        "outputId": "a1c31d0f-b52f-4b65-e3c4-ba818c6a73c9"
      },
      "source": [
        "for epoch in range(num_epochs):\n",
        "    for X, y in data_iter:\n",
        "        l = loss(net(X), y)\n",
        "        trainer.zero_grad()\n",
        "        l.backward()\n",
        "        trainer.step()\n",
        "    l = loss(net(features), labels)\n",
        "    print(f'epoch {epoch + 1}, loss {l:f}')"
      ],
      "execution_count": null,
      "outputs": [
        {
          "output_type": "stream",
          "text": [
            "epoch 1, loss 0.000273\n",
            "epoch 2, loss 0.000102\n",
            "epoch 3, loss 0.000101\n"
          ],
          "name": "stdout"
        }
      ]
    },
    {
      "cell_type": "markdown",
      "metadata": {
        "id": "6QONvEqAbO66"
      },
      "source": [
        "- check results"
      ]
    },
    {
      "cell_type": "code",
      "metadata": {
        "colab": {
          "base_uri": "https://localhost:8080/"
        },
        "id": "c49croyNZ6q3",
        "outputId": "3d65b6fa-da1e-4d9c-d8e2-0ba4fc622810"
      },
      "source": [
        "w = net[0].weight.data\n",
        "b = net[0].bias.data\n",
        "print(w,b)"
      ],
      "execution_count": null,
      "outputs": [
        {
          "output_type": "stream",
          "text": [
            "tensor([[ 2.0000, -3.4007]]) tensor([4.2011])\n"
          ],
          "name": "stdout"
        }
      ]
    }
  ]
}