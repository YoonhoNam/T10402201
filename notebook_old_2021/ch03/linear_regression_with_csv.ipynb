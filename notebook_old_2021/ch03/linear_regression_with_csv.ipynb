{
  "nbformat": 4,
  "nbformat_minor": 0,
  "metadata": {
    "colab": {
      "name": "linear_regression_with_csv.ipynb",
      "provenance": [],
      "collapsed_sections": [],
      "mount_file_id": "1a3KDbGblJEC-NccF2U14cwX7EmiCh63a",
      "authorship_tag": "ABX9TyP1Wg/275p0GNTdFzq14DdE",
      "include_colab_link": true
    },
    "kernelspec": {
      "name": "python3",
      "display_name": "Python 3"
    }
  },
  "cells": [
    {
      "cell_type": "markdown",
      "metadata": {
        "id": "view-in-github",
        "colab_type": "text"
      },
      "source": [
        "<a href=\"https://colab.research.google.com/github/hufsaim/T10402201/blob/master/ch03/linear_regression_with_csv.ipynb\" target=\"_parent\"><img src=\"https://colab.research.google.com/assets/colab-badge.svg\" alt=\"Open In Colab\"/></a>"
      ]
    },
    {
      "cell_type": "code",
      "metadata": {
        "id": "doCWzv28C1bd"
      },
      "source": [
        "import torch\n",
        "import pandas as pd\n",
        "import numpy as np\n",
        "from matplotlib import pyplot as plt\n",
        "import random"
      ],
      "execution_count": 1,
      "outputs": []
    },
    {
      "cell_type": "markdown",
      "metadata": {
        "id": "H4bfQ1DEE9am"
      },
      "source": [
        "- 인터넷주소를 통해 데이터를 가져오기"
      ]
    },
    {
      "cell_type": "code",
      "metadata": {
        "id": "-TiXIceiDGri"
      },
      "source": [
        "data_file1 = 'https://raw.githubusercontent.com/CSSEGISandData/COVID-19/master/csse_covid_19_data/csse_covid_19_time_series/time_series_covid19_confirmed_global.csv'"
      ],
      "execution_count": 2,
      "outputs": []
    },
    {
      "cell_type": "code",
      "metadata": {
        "id": "0lSxT2_RDXD_"
      },
      "source": [
        "data1 = pd.read_csv(data_file1)"
      ],
      "execution_count": 3,
      "outputs": []
    },
    {
      "cell_type": "code",
      "metadata": {
        "colab": {
          "base_uri": "https://localhost:8080/"
        },
        "id": "F5-tejkcFP8x",
        "outputId": "13288045-2bec-484b-9158-95ca7f666a12"
      },
      "source": [
        "data1.iloc[158,28:-7]"
      ],
      "execution_count": 4,
      "outputs": [
        {
          "output_type": "execute_result",
          "data": {
            "text/plain": [
              "2/15/20       28\n",
              "2/16/20       29\n",
              "2/17/20       30\n",
              "2/18/20       31\n",
              "2/19/20       31\n",
              "           ...  \n",
              "3/5/21     92055\n",
              "3/6/21     92471\n",
              "3/7/21     92817\n",
              "3/8/21     93263\n",
              "3/9/21     93733\n",
              "Name: 158, Length: 389, dtype: object"
            ]
          },
          "metadata": {
            "tags": []
          },
          "execution_count": 4
        }
      ]
    },
    {
      "cell_type": "markdown",
      "metadata": {
        "id": "JheJ35mVFCIQ"
      },
      "source": [
        "- 연결된 컴퓨터의 절대경로(또는 상대경로)를 이용하여 데이터를 가져오기"
      ]
    },
    {
      "cell_type": "code",
      "metadata": {
        "id": "EgUHLT4kEu2s"
      },
      "source": [
        "data_file2 = '/content/drive/MyDrive/tmp/2020_KR_metropolitan_Region_Mobility_Report.csv'"
      ],
      "execution_count": 5,
      "outputs": []
    },
    {
      "cell_type": "code",
      "metadata": {
        "id": "n9QlKK-TDYbd"
      },
      "source": [
        "data2 = pd.read_csv(data_file2)"
      ],
      "execution_count": 6,
      "outputs": []
    },
    {
      "cell_type": "markdown",
      "metadata": {
        "id": "mUeNAD28etj5"
      },
      "source": [
        "- 같은 기간의 데이터만을 추출하기"
      ]
    },
    {
      "cell_type": "code",
      "metadata": {
        "colab": {
          "base_uri": "https://localhost:8080/"
        },
        "id": "ubQAj4o_E8fQ",
        "outputId": "189bb3f0-4ea2-420c-920a-b0e6e46ed3ed"
      },
      "source": [
        "x0 = data2.iloc[:,9:]\n",
        "date = data2['date']\n",
        "x0.shape"
      ],
      "execution_count": 7,
      "outputs": [
        {
          "output_type": "execute_result",
          "data": {
            "text/plain": [
              "(389, 6)"
            ]
          },
          "metadata": {
            "tags": []
          },
          "execution_count": 7
        }
      ]
    },
    {
      "cell_type": "code",
      "metadata": {
        "colab": {
          "base_uri": "https://localhost:8080/"
        },
        "id": "OPoSHk2Qfh1B",
        "outputId": "1a1dfbdb-e0c6-4024-b82d-486d06a35b36"
      },
      "source": [
        "x0.columns.values"
      ],
      "execution_count": 8,
      "outputs": [
        {
          "output_type": "execute_result",
          "data": {
            "text/plain": [
              "array(['retail_and_recreation_percent_change_from_baseline',\n",
              "       'grocery_and_pharmacy_percent_change_from_baseline',\n",
              "       'parks_percent_change_from_baseline',\n",
              "       'transit_stations_percent_change_from_baseline',\n",
              "       'workplaces_percent_change_from_baseline',\n",
              "       'residential_percent_change_from_baseline'], dtype=object)"
            ]
          },
          "metadata": {
            "tags": []
          },
          "execution_count": 8
        }
      ]
    },
    {
      "cell_type": "code",
      "metadata": {
        "colab": {
          "base_uri": "https://localhost:8080/"
        },
        "id": "KKDYcJ59GkIL",
        "outputId": "b41f3755-95fd-4718-9605-60e4ce9afc05"
      },
      "source": [
        "y0 = data1.iloc[158,28:-7].values - data1.iloc[158,27:-8].values\n",
        "y0.shape\n"
      ],
      "execution_count": 9,
      "outputs": [
        {
          "output_type": "execute_result",
          "data": {
            "text/plain": [
              "(389,)"
            ]
          },
          "metadata": {
            "tags": []
          },
          "execution_count": 9
        }
      ]
    },
    {
      "cell_type": "code",
      "metadata": {
        "colab": {
          "base_uri": "https://localhost:8080/",
          "height": 279
        },
        "id": "zx0r2LxzHjRK",
        "outputId": "3756bfac-a142-4daf-8dca-1ed81fa79c3a"
      },
      "source": [
        "n=5\n",
        "\n",
        "plt.subplot(2,1,1)\n",
        "plt.plot(y0)\n",
        "plt.xlabel('day')\n",
        "plt.ylabel('confirmed_new')\n",
        "plt.grid('both')\n",
        "\n",
        "plt.subplot(2,1,2)\n",
        "plt.plot(x0.iloc[:,n])\n",
        "plt.plot(np.convolve(x0.iloc[:,n],np.ones(7)/7,mode='same'))\n",
        "plt.xlabel('day')\n",
        "ylbl = x0.columns.values[n]\n",
        "plt.ylabel(ylbl[:10]+'...')\n",
        "plt.grid('both')\n",
        "\n",
        "plt.show()"
      ],
      "execution_count": 10,
      "outputs": [
        {
          "output_type": "display_data",
          "data": {
            "image/png": "[encoded data removed]",
            "text/plain": [
              "<Figure size 432x288 with 2 Axes>"
            ]
          },
          "metadata": {
            "tags": [],
            "needs_background": "light"
          }
        }
      ]
    },
    {
      "cell_type": "markdown",
      "metadata": {
        "id": "Ul_sZcEWe3id"
      },
      "source": [
        "- 1D filtering (노이즈감소)"
      ]
    },
    {
      "cell_type": "code",
      "metadata": {
        "id": "4YrpK4IKaWOZ"
      },
      "source": [
        "for n in range(0,6):\n",
        "  x0.iloc[:,n] = np.convolve(x0.iloc[:,n],np.ones(7)/7,mode='same')"
      ],
      "execution_count": 11,
      "outputs": []
    },
    {
      "cell_type": "markdown",
      "metadata": {
        "id": "leSuSSUNe-He"
      },
      "source": [
        "- PyTorch Tensor로 변환"
      ]
    },
    {
      "cell_type": "code",
      "metadata": {
        "colab": {
          "base_uri": "https://localhost:8080/"
        },
        "id": "BlXn0pzLQtSS",
        "outputId": "da7c2af7-1eca-4fba-cf10-a50856546b79"
      },
      "source": [
        "labels = torch.tensor(np.array(y0,dtype=np.float32))\n",
        "labels.reshape((-1,1))\n",
        "labels.shape"
      ],
      "execution_count": 12,
      "outputs": [
        {
          "output_type": "execute_result",
          "data": {
            "text/plain": [
              "torch.Size([389])"
            ]
          },
          "metadata": {
            "tags": []
          },
          "execution_count": 12
        }
      ]
    },
    {
      "cell_type": "code",
      "metadata": {
        "colab": {
          "base_uri": "https://localhost:8080/"
        },
        "id": "r_9DL9csTjoV",
        "outputId": "1484c672-c414-4bd6-94da-c4fae5a266ee"
      },
      "source": [
        "features = torch.tensor(np.array(x0,dtype=np.float32))\n",
        "features.shape"
      ],
      "execution_count": 14,
      "outputs": [
        {
          "output_type": "execute_result",
          "data": {
            "text/plain": [
              "torch.Size([389, 6])"
            ]
          },
          "metadata": {
            "tags": []
          },
          "execution_count": 14
        }
      ]
    },
    {
      "cell_type": "code",
      "metadata": {
        "colab": {
          "base_uri": "https://localhost:8080/",
          "height": 279
        },
        "id": "imuFL0j7Vpqa",
        "outputId": "8a1ce662-cdfa-40e1-c50d-a99cbbf986cf"
      },
      "source": [
        "n = 5\n",
        "plt.scatter(features[:,n],labels)\n",
        "plt.xlabel('feature')\n",
        "plt.ylabel('confirmed_new')\n",
        "plt.grid('both')"
      ],
      "execution_count": 15,
      "outputs": [
        {
          "output_type": "display_data",
          "data": {
            "image/png": "[encoded data removed]",
            "text/plain": [
              "<Figure size 432x288 with 1 Axes>"
            ]
          },
          "metadata": {
            "tags": [],
            "needs_background": "light"
          }
        }
      ]
    },
    {
      "cell_type": "code",
      "metadata": {
        "id": "EtoidzLhTnWu"
      },
      "source": [
        "def data_iter(batch_size, features, labels):\n",
        "    num_examples = len(features)\n",
        "    indices = list(range(num_examples))\n",
        "    # The examples are read at random, in no particular order\n",
        "    random.shuffle(indices)\n",
        "    for i in range(0, num_examples, batch_size):\n",
        "        batch_indices = torch.tensor(\n",
        "            indices[i: min(i + batch_size, num_examples)])\n",
        "        yield features[batch_indices], labels[batch_indices]"
      ],
      "execution_count": 16,
      "outputs": []
    },
    {
      "cell_type": "code",
      "metadata": {
        "colab": {
          "base_uri": "https://localhost:8080/"
        },
        "id": "N9RG-3kxXoah",
        "outputId": "fb444f4b-ee04-4dcb-cab4-b669025d3aa8"
      },
      "source": [
        "batch_size = 32\n",
        "for X, y in data_iter(batch_size, features, labels):\n",
        "    print(X, '\\n', y)\n",
        "    break"
      ],
      "execution_count": 17,
      "outputs": [
        {
          "output_type": "stream",
          "text": [
            "tensor([[-6.2857e+00,  1.0429e+01,  5.7714e+01, -4.5714e+00, -3.1429e+00,\n",
            "          3.4286e+00],\n",
            "        [-6.8571e+00,  1.1429e+01,  6.7857e+01, -7.0000e+00, -1.0857e+01,\n",
            "          5.4286e+00],\n",
            "        [-6.4286e+00,  6.7143e+00,  4.4000e+01, -5.8571e+00, -3.0000e+00,\n",
            "          2.4286e+00],\n",
            "        [-3.3286e+01, -2.4286e+00, -1.7571e+01, -2.1857e+01, -1.8286e+01,\n",
            "          1.3000e+01],\n",
            "        [-1.8143e+01,  4.2857e+00,  5.9714e+01, -1.3857e+01, -7.8571e+00,\n",
            "          7.0000e+00],\n",
            "        [-9.0000e+00,  6.5714e+00,  3.9000e+01, -6.1429e+00, -2.8571e+00,\n",
            "          4.0000e+00],\n",
            "        [-8.0000e+00,  7.8571e+00,  4.9429e+01, -5.7143e+00, -3.2857e+00,\n",
            "          3.8571e+00],\n",
            "        [-3.2286e+01,  3.1429e+00,  3.3000e+01, -2.3571e+01, -1.8286e+01,\n",
            "          9.5714e+00],\n",
            "        [-6.2857e+00,  4.4286e+00,  3.4286e+01, -9.7143e+00, -8.2857e+00,\n",
            "          3.1429e+00],\n",
            "        [-2.3143e+01, -4.2857e-01,  2.0143e+01, -1.9429e+01, -7.2857e+00,\n",
            "          8.4286e+00],\n",
            "        [-6.4286e+00,  1.2857e+01,  7.7000e+01, -8.7143e+00, -1.7714e+01,\n",
            "          6.7143e+00],\n",
            "        [-2.8429e+01,  6.2857e+00,  1.3429e+01, -2.4000e+01, -2.7000e+01,\n",
            "          1.4286e+01],\n",
            "        [-7.5714e+00,  3.0000e+00,  3.2429e+01, -9.4286e+00, -5.1429e+00,\n",
            "          3.2857e+00],\n",
            "        [-1.5857e+01,  1.3714e+01,  2.5714e+00, -1.3714e+01, -9.7143e+00,\n",
            "          7.7143e+00],\n",
            "        [-3.8571e+00,  1.5714e+01,  7.7714e+01, -1.0000e+01, -2.2143e+01,\n",
            "          6.5714e+00],\n",
            "        [-3.3857e+01,  1.8571e+00,  2.6143e+01, -2.4857e+01, -1.8571e+01,\n",
            "          1.0000e+01],\n",
            "        [-7.0000e+00,  1.1571e+01,  7.8857e+01, -9.1429e+00, -1.9429e+01,\n",
            "          6.2857e+00],\n",
            "        [-6.1429e+00,  7.0000e+00,  4.3857e+01, -5.4286e+00, -2.8571e+00,\n",
            "          2.4286e+00],\n",
            "        [-2.7000e+01,  8.4286e+00,  3.4286e+00, -1.9286e+01, -1.7000e+01,\n",
            "          1.1143e+01],\n",
            "        [-2.6143e+01,  4.8571e+00, -1.4286e+00, -1.9714e+01, -1.5286e+01,\n",
            "          9.7143e+00],\n",
            "        [-1.5857e+01,  9.7143e+00,  6.3143e+01, -5.7143e+00, -1.7714e+01,\n",
            "          5.1429e+00],\n",
            "        [-7.5714e+00,  5.4286e+00,  3.9000e+01, -7.5714e+00, -3.7143e+00,\n",
            "          3.0000e+00],\n",
            "        [-2.4857e+01, -5.5714e+00,  1.5429e+01, -2.0429e+01, -8.1429e+00,\n",
            "          8.8571e+00],\n",
            "        [-8.2857e+00,  3.2857e+00,  1.5429e+01, -1.2714e+01, -1.3429e+01,\n",
            "          4.0000e+00],\n",
            "        [-8.2857e+00,  4.4286e+00,  3.3571e+01, -6.4286e+00, -3.1429e+00,\n",
            "          2.7143e+00],\n",
            "        [-2.9857e+01,  3.5714e+00,  9.5714e+00, -2.3429e+01, -1.3857e+01,\n",
            "          8.5714e+00],\n",
            "        [-9.0000e+00,  1.1857e+01,  5.1286e+01, -5.8571e+00, -4.5714e+00,\n",
            "          3.0000e+00],\n",
            "        [-2.8143e+01,  6.2857e+00,  1.5857e+01, -2.3571e+01, -2.6429e+01,\n",
            "          1.4000e+01],\n",
            "        [-1.1143e+01,  7.8571e+00,  2.6143e+01, -5.5511e-17, -2.5714e+00,\n",
            "          1.4286e+00],\n",
            "        [-2.7571e+01,  5.5714e+00,  3.4286e+00, -1.2143e+01, -8.0000e+00,\n",
            "          6.5714e+00],\n",
            "        [-3.4714e+01,  2.2857e+00,  2.2714e+01, -2.5286e+01, -1.7286e+01,\n",
            "          1.0000e+01],\n",
            "        [-2.3571e+01,  6.0000e+00,  4.6286e+01, -1.6286e+01, -1.3571e+01,\n",
            "          6.4286e+00]]) \n",
            " tensor([  23.,   14.,   54.,  665.,   89.,   27.,   20.,  119.,   18.,   76.,\n",
            "           9.,  970.,   25.,  393.,    3.,  167.,    4.,   43.,  869.,  389.,\n",
            "         114.,   62.,  273.,   56.,   51.,  371.,   51., 1132.,  118.,  488.,\n",
            "         267.,  109.])\n"
          ],
          "name": "stdout"
        }
      ]
    },
    {
      "cell_type": "code",
      "metadata": {
        "id": "ncI_klWLYbPj"
      },
      "source": [
        "def linreg(X, w, b):  #@save\n",
        "    \"\"\"The linear regression model.\"\"\"\n",
        "    return torch.matmul(X, w) + b"
      ],
      "execution_count": 18,
      "outputs": []
    },
    {
      "cell_type": "code",
      "metadata": {
        "id": "ZWYtA-IaYgpJ"
      },
      "source": [
        "def squared_loss(y_hat, y):  #@save\n",
        "    \"\"\"Squared loss.\"\"\"\n",
        "    return (y_hat - y.reshape(y_hat.shape))**2 / 2"
      ],
      "execution_count": 19,
      "outputs": []
    },
    {
      "cell_type": "code",
      "metadata": {
        "id": "h1tXms-XYiEn"
      },
      "source": [
        "def sgd(params, lr, batch_size):  #@save\n",
        "    \"\"\"Minibatch stochastic gradient descent.\"\"\"\n",
        "    with torch.no_grad():\n",
        "        for param in params:\n",
        "            param -= lr * param.grad / batch_size\n",
        "            param.grad.zero_()"
      ],
      "execution_count": 20,
      "outputs": []
    },
    {
      "cell_type": "markdown",
      "metadata": {
        "id": "ENuJqrX0h7LJ"
      },
      "source": [
        "- Parameter Initialization\n",
        "\n",
        "\n"
      ]
    },
    {
      "cell_type": "code",
      "metadata": {
        "id": "eSpOwOZXXrwo"
      },
      "source": [
        "w = torch.normal(0, 0.01, size=(6,1), requires_grad=True)\n",
        "b = torch.zeros(1, requires_grad=True)"
      ],
      "execution_count": 21,
      "outputs": []
    },
    {
      "cell_type": "markdown",
      "metadata": {
        "id": "ULITW_CviBGH"
      },
      "source": [
        "- Hyperparameters"
      ]
    },
    {
      "cell_type": "code",
      "metadata": {
        "id": "OLdMJhneYje4"
      },
      "source": [
        "lr = 0.0005\n",
        "num_epochs = 8000\n",
        "net = linreg\n",
        "loss = squared_loss"
      ],
      "execution_count": 22,
      "outputs": []
    },
    {
      "cell_type": "markdown",
      "metadata": {
        "id": "_1Vr9ARciHp7"
      },
      "source": [
        "- Training"
      ]
    },
    {
      "cell_type": "code",
      "metadata": {
        "colab": {
          "base_uri": "https://localhost:8080/"
        },
        "id": "gvXQJw6SYlTm",
        "outputId": "bb9ead2b-93da-4d58-b1e7-e07aa8fe6f79"
      },
      "source": [
        "for epoch in range(num_epochs):\n",
        "    for X, y in data_iter(batch_size, features, labels):\n",
        "        l = loss(net(X, w, b), y)  # Minibatch loss in `X` and `y`\n",
        "        # Compute gradient on `l` with respect to [`w`, `b`]\n",
        "        l.sum().backward()\n",
        "        sgd([w, b], lr, batch_size)  # Update parameters using their gradient\n",
        "    with torch.no_grad():\n",
        "        train_l = loss(net(features, w, b), labels)\n",
        "\n",
        "        if epoch%1000==0:\n",
        "          print(f'epoch {epoch + 1}, loss {float(train_l.mean()):f}')"
      ],
      "execution_count": 23,
      "outputs": [
        {
          "output_type": "stream",
          "text": [
            "epoch 1, loss 15770.312500\n",
            "epoch 1001, loss 10294.830078\n",
            "epoch 2001, loss 10538.718750\n",
            "epoch 3001, loss 10589.447266\n",
            "epoch 4001, loss 10332.072266\n",
            "epoch 5001, loss 10150.711914\n",
            "epoch 6001, loss 10415.927734\n",
            "epoch 7001, loss 10189.234375\n"
          ],
          "name": "stdout"
        }
      ]
    },
    {
      "cell_type": "code",
      "metadata": {
        "colab": {
          "base_uri": "https://localhost:8080/"
        },
        "id": "6vblDrLqYnQv",
        "outputId": "3985de0f-f307-4c67-fda9-18920151298e"
      },
      "source": [
        "w"
      ],
      "execution_count": 24,
      "outputs": [
        {
          "output_type": "execute_result",
          "data": {
            "text/plain": [
              "tensor([[-7.0558],\n",
              "        [ 7.5012],\n",
              "        [-5.3116],\n",
              "        [19.0316],\n",
              "        [ 1.2722],\n",
              "        [66.7804]], requires_grad=True)"
            ]
          },
          "metadata": {
            "tags": []
          },
          "execution_count": 24
        }
      ]
    },
    {
      "cell_type": "code",
      "metadata": {
        "colab": {
          "base_uri": "https://localhost:8080/"
        },
        "id": "JEie7LXKd0MZ",
        "outputId": "64c69cbd-98c6-4f56-f000-fc2a1a9031f8"
      },
      "source": [
        "x0.columns.values"
      ],
      "execution_count": 26,
      "outputs": [
        {
          "output_type": "execute_result",
          "data": {
            "text/plain": [
              "array(['retail_and_recreation_percent_change_from_baseline',\n",
              "       'grocery_and_pharmacy_percent_change_from_baseline',\n",
              "       'parks_percent_change_from_baseline',\n",
              "       'transit_stations_percent_change_from_baseline',\n",
              "       'workplaces_percent_change_from_baseline',\n",
              "       'residential_percent_change_from_baseline'], dtype=object)"
            ]
          },
          "metadata": {
            "tags": []
          },
          "execution_count": 26
        }
      ]
    },
    {
      "cell_type": "code",
      "metadata": {
        "id": "Lzzy76Ptd6Wn"
      },
      "source": [
        ""
      ],
      "execution_count": null,
      "outputs": []
    }
  ]
}