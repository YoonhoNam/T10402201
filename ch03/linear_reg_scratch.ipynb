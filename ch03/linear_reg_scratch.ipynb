{
  "nbformat": 4,
  "nbformat_minor": 0,
  "metadata": {
    "colab": {
      "name": "linear_reg_scratch.ipynb",
      "provenance": [],
      "collapsed_sections": [],
      "authorship_tag": "ABX9TyPLhb4rqN34JbY3juVZfSu1",
      "include_colab_link": true
    },
    "kernelspec": {
      "name": "python3",
      "display_name": "Python 3"
    },
    "language_info": {
      "name": "python"
    }
  },
  "cells": [
    {
      "cell_type": "markdown",
      "metadata": {
        "id": "view-in-github",
        "colab_type": "text"
      },
      "source": [
        "<a href=\"https://colab.research.google.com/github/hufsaim/T10402201/blob/master/ch03/linear_reg_scratch.ipynb\" target=\"_parent\"><img src=\"https://colab.research.google.com/assets/colab-badge.svg\" alt=\"Open In Colab\"/></a>"
      ]
    },
    {
      "cell_type": "markdown",
      "metadata": {
        "id": "mnQcKOVUckfW"
      },
      "source": [
        "http://d2l.ai/chapter_linear-networks/linear-regression-scratch.html"
      ]
    },
    {
      "cell_type": "code",
      "metadata": {
        "id": "5d2OdI1dVarW"
      },
      "source": [
        "%matplotlib inline\n",
        "import random\n",
        "import torch"
      ],
      "execution_count": null,
      "outputs": []
    },
    {
      "cell_type": "markdown",
      "metadata": {
        "id": "21-IT7OSXQNz"
      },
      "source": [
        "- define functions"
      ]
    },
    {
      "cell_type": "code",
      "metadata": {
        "id": "_VDe5OF6VpHu"
      },
      "source": [
        "def synthetic_data(w, b, num_examples):  #@save\n",
        "    \"\"\"Generate y = Xw + b + noise.\"\"\"\n",
        "    X = torch.normal(0, 1, (num_examples, len(w)))\n",
        "    y = torch.matmul(X, w) + b\n",
        "    y += torch.normal(0, 0.01, y.shape)\n",
        "    return X, y.reshape((-1, 1))\n",
        "\n",
        "def data_iter(batch_size, features, labels):\n",
        "    num_examples = len(features)\n",
        "    indices = list(range(num_examples))\n",
        "    # The examples are read at random, in no particular order\n",
        "    random.shuffle(indices)\n",
        "    for i in range(0, num_examples, batch_size):\n",
        "        batch_indices = torch.tensor(indices[i:min(i +\n",
        "                                                   batch_size, num_examples)])\n",
        "        yield features[batch_indices], labels[batch_indices]\n",
        "\n",
        "def linreg(X, w, b):  #@save\n",
        "    \"\"\"The linear regression model.\"\"\"\n",
        "    return torch.matmul(X, w) + b\n",
        "\n",
        "def squared_loss(y_hat, y):  #@save\n",
        "    \"\"\"Squared loss.\"\"\"\n",
        "    return (y_hat - y.reshape(y_hat.shape))**2 / 2\n",
        "\n",
        "def sgd(params, lr, batch_size):  #@save\n",
        "    \"\"\"Minibatch stochastic gradient descent.\"\"\"\n",
        "    with torch.no_grad():\n",
        "        for param in params:\n",
        "            param -= lr * param.grad / batch_size\n",
        "            param.grad.zero_()"
      ],
      "execution_count": null,
      "outputs": []
    },
    {
      "cell_type": "markdown",
      "metadata": {
        "id": "GABuS25lW0Qd"
      },
      "source": [
        "- load examples"
      ]
    },
    {
      "cell_type": "code",
      "metadata": {
        "colab": {
          "base_uri": "https://localhost:8080/"
        },
        "id": "HE2zszhnVqXO",
        "outputId": "5caf7bea-c376-4cc5-abf0-0bbbed7fcf62"
      },
      "source": [
        "true_w = torch.tensor([2, -3.4])\n",
        "true_b = 4.2\n",
        "features, labels = synthetic_data(true_w, true_b, 1000)\n",
        "print('features:', features[0], '\\nlabel:', labels[0])\n",
        "print('features:', features[1], '\\nlabel:', labels[1])\n",
        "print('features:', features[2], '\\nlabel:', labels[2])\n",
        "print('features:', features[-1], '\\nlabel:', labels[-1])"
      ],
      "execution_count": null,
      "outputs": [
        {
          "output_type": "stream",
          "text": [
            "features: tensor([0.5365, 0.6737]) \n",
            "label: tensor([2.9790])\n",
            "features: tensor([-0.9289, -1.9422]) \n",
            "label: tensor([8.9474])\n",
            "features: tensor([0.8484, 0.1188]) \n",
            "label: tensor([5.4913])\n",
            "features: tensor([2.3479, 0.4363]) \n",
            "label: tensor([7.4335])\n"
          ],
          "name": "stdout"
        }
      ]
    },
    {
      "cell_type": "markdown",
      "metadata": {
        "id": "8JmQapQ1Wf-o"
      },
      "source": [
        "- Parameters (weights, bias)"
      ]
    },
    {
      "cell_type": "code",
      "metadata": {
        "id": "Q1Je7YbuVvaX"
      },
      "source": [
        "w = torch.normal(0, 0.01, size=(2, 1), requires_grad=True)\n",
        "b = torch.zeros(1, requires_grad=True)"
      ],
      "execution_count": null,
      "outputs": []
    },
    {
      "cell_type": "markdown",
      "metadata": {
        "id": "F2NOLaV-WqyP"
      },
      "source": [
        "- Hyperparameters"
      ]
    },
    {
      "cell_type": "code",
      "metadata": {
        "id": "htJUhC9JWBnE"
      },
      "source": [
        "batch_size = 10\n",
        "lr = 0.03\n",
        "num_epochs = 3\n",
        "net = linreg\n",
        "loss = squared_loss"
      ],
      "execution_count": null,
      "outputs": []
    },
    {
      "cell_type": "markdown",
      "metadata": {
        "id": "ZwzsMqjgWxc_"
      },
      "source": [
        "- Train a model"
      ]
    },
    {
      "cell_type": "code",
      "metadata": {
        "colab": {
          "base_uri": "https://localhost:8080/"
        },
        "id": "gCi5e29vWENK",
        "outputId": "d3ad9a40-b8a1-47fb-c2d7-2054f68b402f"
      },
      "source": [
        "for epoch in range(num_epochs):\n",
        "    for X, y in data_iter(batch_size, features, labels):\n",
        "        l = loss(net(X, w, b), y)  # Minibatch loss in `X` and `y`\n",
        "        # Compute gradient on `l` with respect to [`w`, `b`]\n",
        "        l.sum().backward()\n",
        "        sgd([w, b], lr, batch_size)  # Update parameters using their gradient\n",
        "    with torch.no_grad():\n",
        "        train_l = loss(net(features, w, b), labels)\n",
        "        print(f'epoch {epoch + 1}, loss {float(train_l.mean()):f}')"
      ],
      "execution_count": null,
      "outputs": [
        {
          "output_type": "stream",
          "text": [
            "epoch 1, loss 0.029268\n",
            "epoch 2, loss 0.000104\n",
            "epoch 3, loss 0.000048\n"
          ],
          "name": "stdout"
        }
      ]
    },
    {
      "cell_type": "markdown",
      "metadata": {
        "id": "21ItZPhDXN0r"
      },
      "source": [
        "- Check results"
      ]
    },
    {
      "cell_type": "code",
      "metadata": {
        "colab": {
          "base_uri": "https://localhost:8080/"
        },
        "id": "8kOAAzz2WQ51",
        "outputId": "e7d07658-fe56-4f29-bd6b-7b0803434357"
      },
      "source": [
        "print(w[0],w[1],b)"
      ],
      "execution_count": null,
      "outputs": [
        {
          "output_type": "stream",
          "text": [
            "tensor([2.0003], grad_fn=<SelectBackward>) tensor([-3.3994], grad_fn=<SelectBackward>) tensor([4.1992], requires_grad=True)\n"
          ],
          "name": "stdout"
        }
      ]
    }
  ]
}